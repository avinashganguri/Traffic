{
 "cells": [
  {
   "cell_type": "code",
   "execution_count": 3,
   "metadata": {},
   "outputs": [],
   "source": [
    "import numpy as np \n",
    "import pandas as pd \n",
    "import matplotlib.pyplot as plt\n",
    "import tensorflow as tf\n",
    "import cv2\n",
    "from PIL import Image\n",
    "import os\n",
    "from keras.models import Sequential\n",
    "from keras.layers import Conv2D, MaxPool2D, Dense, Flatten, Dropout\n",
    "from keras.utils import to_categorical\n",
    "from sklearn.metrics import accuracy_score"
   ]
  },
  {
   "cell_type": "code",
   "execution_count": 4,
   "metadata": {},
   "outputs": [
    {
     "name": "stdout",
     "output_type": "stream",
     "text": [
      "/Users/avi/Documents/UMKC/PythonDL/project/data/Train/0/\n",
      "/Users/avi/Documents/UMKC/PythonDL/project/data/Train/1/\n",
      "/Users/avi/Documents/UMKC/PythonDL/project/data/Train/2/\n",
      "/Users/avi/Documents/UMKC/PythonDL/project/data/Train/3/\n",
      "/Users/avi/Documents/UMKC/PythonDL/project/data/Train/4/\n",
      "/Users/avi/Documents/UMKC/PythonDL/project/data/Train/5/\n",
      "/Users/avi/Documents/UMKC/PythonDL/project/data/Train/6/\n",
      "/Users/avi/Documents/UMKC/PythonDL/project/data/Train/7/\n",
      "/Users/avi/Documents/UMKC/PythonDL/project/data/Train/8/\n",
      "/Users/avi/Documents/UMKC/PythonDL/project/data/Train/9/\n",
      "/Users/avi/Documents/UMKC/PythonDL/project/data/Train/10/\n",
      "/Users/avi/Documents/UMKC/PythonDL/project/data/Train/11/\n",
      "/Users/avi/Documents/UMKC/PythonDL/project/data/Train/12/\n",
      "/Users/avi/Documents/UMKC/PythonDL/project/data/Train/13/\n",
      "/Users/avi/Documents/UMKC/PythonDL/project/data/Train/14/\n",
      "/Users/avi/Documents/UMKC/PythonDL/project/data/Train/15/\n",
      "/Users/avi/Documents/UMKC/PythonDL/project/data/Train/16/\n",
      "/Users/avi/Documents/UMKC/PythonDL/project/data/Train/17/\n",
      "/Users/avi/Documents/UMKC/PythonDL/project/data/Train/18/\n",
      "/Users/avi/Documents/UMKC/PythonDL/project/data/Train/19/\n",
      "/Users/avi/Documents/UMKC/PythonDL/project/data/Train/20/\n",
      "/Users/avi/Documents/UMKC/PythonDL/project/data/Train/21/\n",
      "/Users/avi/Documents/UMKC/PythonDL/project/data/Train/22/\n",
      "/Users/avi/Documents/UMKC/PythonDL/project/data/Train/23/\n",
      "/Users/avi/Documents/UMKC/PythonDL/project/data/Train/24/\n",
      "/Users/avi/Documents/UMKC/PythonDL/project/data/Train/25/\n",
      "/Users/avi/Documents/UMKC/PythonDL/project/data/Train/26/\n",
      "/Users/avi/Documents/UMKC/PythonDL/project/data/Train/27/\n",
      "/Users/avi/Documents/UMKC/PythonDL/project/data/Train/28/\n",
      "/Users/avi/Documents/UMKC/PythonDL/project/data/Train/29/\n",
      "/Users/avi/Documents/UMKC/PythonDL/project/data/Train/30/\n",
      "/Users/avi/Documents/UMKC/PythonDL/project/data/Train/31/\n",
      "/Users/avi/Documents/UMKC/PythonDL/project/data/Train/32/\n",
      "/Users/avi/Documents/UMKC/PythonDL/project/data/Train/33/\n",
      "/Users/avi/Documents/UMKC/PythonDL/project/data/Train/34/\n",
      "/Users/avi/Documents/UMKC/PythonDL/project/data/Train/35/\n",
      "/Users/avi/Documents/UMKC/PythonDL/project/data/Train/36/\n",
      "/Users/avi/Documents/UMKC/PythonDL/project/data/Train/37/\n",
      "/Users/avi/Documents/UMKC/PythonDL/project/data/Train/38/\n",
      "/Users/avi/Documents/UMKC/PythonDL/project/data/Train/39/\n",
      "/Users/avi/Documents/UMKC/PythonDL/project/data/Train/40/\n",
      "/Users/avi/Documents/UMKC/PythonDL/project/data/Train/41/\n",
      "/Users/avi/Documents/UMKC/PythonDL/project/data/Train/42/\n"
     ]
    }
   ],
   "source": [
    "data=[]\n",
    "labels=[]\n",
    "\n",
    "height = 30\n",
    "width = 30\n",
    "channels = 3\n",
    "classes = 43\n",
    "n_inputs = height * width * channels\n",
    "\n",
    "for i in range(classes) :\n",
    "    path = \"/Users/avi/Documents/UMKC/PythonDL/project/data/Train/{0}/\".format(i)\n",
    "    print(path)\n",
    "    Class=os.listdir(path)\n",
    "    for a in Class:\n",
    "        try:\n",
    "            image=cv2.imread(path+a)\n",
    "            image_from_array = Image.fromarray(image, 'RGB')\n",
    "            size_image = image_from_array.resize((height, width))\n",
    "            data.append(np.array(size_image))\n",
    "            labels.append(i)\n",
    "        except AttributeError:\n",
    "            print(\" \")\n",
    "            \n",
    "data=np.array(data)\n",
    "labels=np.array(labels)\n",
    "\n",
    "#Randomizing the order of the input images\n",
    "s=np.arange(data.shape[0])\n",
    "np.random.seed(43)\n",
    "np.random.shuffle(s)\n",
    "data=data[s]\n",
    "labels=labels[s]"
   ]
  },
  {
   "cell_type": "code",
   "execution_count": 5,
   "metadata": {},
   "outputs": [],
   "source": [
    "#Preprocessing the Dataset\n",
    "#Spliting the images into train and validation sets\n",
    "(X_train,X_val)=data[(int)(0.2*len(labels)):],data[:(int)(0.2*len(labels))]\n",
    "X_train = X_train.astype('float32')/255 \n",
    "X_val = X_val.astype('float32')/255\n",
    "(y_train,y_val)=labels[(int)(0.2*len(labels)):],labels[:(int)(0.2*len(labels))]\n",
    "\n",
    "#Using one hot encoding for the train and validation labels with to_categorial\n",
    "y_train = to_categorical(y_train, 43)\n",
    "y_val = to_categorical(y_val, 43)"
   ]
  },
  {
   "cell_type": "code",
   "execution_count": 32,
   "metadata": {},
   "outputs": [],
   "source": [
    "#Building our CNN Model \n",
    "\n",
    "model = Sequential()\n",
    "model.add(Conv2D(filters=32, kernel_size=(5,5), activation='tanh', input_shape=X_train.shape[1:]))\n",
    "model.add(Conv2D(filters=32, kernel_size=(3, 3), activation='tanh'))\n",
    "model.add(MaxPool2D(pool_size=(2, 2)))\n",
    "model.add(Dropout(rate=0.25))\n",
    "model.add(Conv2D(filters=32, kernel_size=(3, 3), activation='tanh'))\n",
    "model.add(MaxPool2D(pool_size=(2, 2)))\n",
    "model.add(Dropout(rate=0.25))\n",
    "model.add(Flatten())\n",
    "model.add(Dense(256, activation='tanh'))\n",
    "model.add(Dropout(rate=0.5))\n",
    "model.add(Dense(43, activation='sigmoid'))\n",
    "\n",
    "#Compilation of the model\n",
    "model.compile(\n",
    "    loss='categorical_crossentropy', \n",
    "    optimizer='adam', \n",
    "    metrics=['accuracy']\n",
    ")"
   ]
  },
  {
   "cell_type": "code",
   "execution_count": 33,
   "metadata": {},
   "outputs": [
    {
     "name": "stdout",
     "output_type": "stream",
     "text": [
      "Train on 31368 samples, validate on 7841 samples\n",
      "Epoch 1/10\n",
      "31368/31368 [==============================] - 72s 2ms/step - loss: 1.1712 - accuracy: 0.6780 - val_loss: 0.1673 - val_accuracy: 0.9589\n",
      "Epoch 2/10\n",
      "31368/31368 [==============================] - 72s 2ms/step - loss: 0.2338 - accuracy: 0.9364 - val_loss: 0.0720 - val_accuracy: 0.9832\n",
      "Epoch 3/10\n",
      "31368/31368 [==============================] - 71s 2ms/step - loss: 0.1427 - accuracy: 0.9626 - val_loss: 0.0439 - val_accuracy: 0.9898\n",
      "Epoch 4/10\n",
      "31368/31368 [==============================] - 72s 2ms/step - loss: 0.1076 - accuracy: 0.9714 - val_loss: 0.0383 - val_accuracy: 0.9908\n",
      "Epoch 5/10\n",
      "31368/31368 [==============================] - 77s 2ms/step - loss: 0.0881 - accuracy: 0.9755 - val_loss: 0.0309 - val_accuracy: 0.9922\n",
      "Epoch 6/10\n",
      "31368/31368 [==============================] - 89s 3ms/step - loss: 0.0831 - accuracy: 0.9750 - val_loss: 0.0279 - val_accuracy: 0.9939\n",
      "Epoch 7/10\n",
      "31368/31368 [==============================] - 80s 3ms/step - loss: 0.0722 - accuracy: 0.9794 - val_loss: 0.0273 - val_accuracy: 0.9925\n",
      "Epoch 8/10\n",
      "31368/31368 [==============================] - 89s 3ms/step - loss: 0.0709 - accuracy: 0.9790 - val_loss: 0.0281 - val_accuracy: 0.9929\n",
      "Epoch 9/10\n",
      "31368/31368 [==============================] - 82s 3ms/step - loss: 0.0652 - accuracy: 0.9811 - val_loss: 0.0252 - val_accuracy: 0.9943\n",
      "Epoch 10/10\n",
      "31368/31368 [==============================] - 83s 3ms/step - loss: 0.0681 - accuracy: 0.9793 - val_loss: 0.0261 - val_accuracy: 0.9943\n"
     ]
    }
   ],
   "source": [
    "#Training the model\n",
    "epochs = 10\n",
    "history = model.fit(X_train, y_train, batch_size=32, epochs=epochs,\n",
    "validation_data=(X_val, y_val))\n"
   ]
  },
  {
   "cell_type": "code",
   "execution_count": 34,
   "metadata": {},
   "outputs": [
    {
     "data": {
      "image/png": "[encoded data removed]",
      "text/plain": [
       "<Figure size 432x288 with 1 Axes>"
      ]
     },
     "metadata": {
      "needs_background": "light"
     },
     "output_type": "display_data"
    },
    {
     "data": {
      "image/png": "[encoded data removed]",
      "text/plain": [
       "<Figure size 432x288 with 1 Axes>"
      ]
     },
     "metadata": {
      "needs_background": "light"
     },
     "output_type": "display_data"
    }
   ],
   "source": [
    "plt.figure(0)\n",
    "plt.plot(history.history['accuracy'], label='training accuracy')\n",
    "plt.plot(history.history['val_accuracy'], label='val accuracy')\n",
    "plt.title('Accuracy')\n",
    "plt.xlabel('epochs')\n",
    "plt.ylabel('accuracy')\n",
    "plt.legend()\n",
    "plt.show()\n",
    "\n",
    "plt.figure(1)\n",
    "plt.plot(history.history['loss'], label='training loss')\n",
    "plt.plot(history.history['val_loss'], label='val loss')\n",
    "plt.title('Loss')\n",
    "plt.xlabel('epochs')\n",
    "plt.ylabel('loss')\n",
    "plt.legend()\n",
    "plt.show()"
   ]
  },
  {
   "cell_type": "code",
   "execution_count": 49,
   "metadata": {},
   "outputs": [
    {
     "data": {
      "image/png": "[encoded data removed]",
      "text/plain": [
       "<Figure size 432x288 with 1 Axes>"
      ]
     },
     "metadata": {
      "needs_background": "light"
     },
     "output_type": "display_data"
    }
   ],
   "source": [
    "plt.imshow(X_test[1123,:,:],cmap='gray')\n",
    "plt.title('Test Image')\n",
    "plt.show()"
   ]
  },
  {
   "cell_type": "code",
   "execution_count": 40,
   "metadata": {},
   "outputs": [],
   "source": [
    "#Predicting with the test data csv file\n",
    "y_test=pd.read_csv(\"/Users/avi/Documents/UMKC/PythonDL/project/data/Test.csv\")\n",
    "labels=y_test['Path'].to_numpy()\n",
    "y_test=y_test['ClassId'].values\n",
    "\n",
    "data=[]\n",
    "\n",
    "for f in labels:\n",
    "    image=cv2.imread('/Users/avi/Documents/UMKC/PythonDL/project/data/Test/'+f.replace('Test/', ''))\n",
    "    image_from_array = Image.fromarray(image, 'RGB')\n",
    "    size_image = image_from_array.resize((height, width))\n",
    "    data.append(np.array(size_image))\n",
    "\n",
    "X_test=np.array(data)\n",
    "\n",
    "pred = model.predict_classes(X_test)"
   ]
  },
  {
   "cell_type": "code",
   "execution_count": 41,
   "metadata": {},
   "outputs": [
    {
     "data": {
      "text/plain": [
       "0.9433095803642122"
      ]
     },
     "execution_count": 41,
     "metadata": {},
     "output_type": "execute_result"
    }
   ],
   "source": [
    "accuracy_score(y_test, pred)"
   ]
  }
 ],
 "metadata": {
  "kernelspec": {
   "display_name": "pythonproject",
   "language": "python",
   "name": "pythonproject"
  },
  "language_info": {
   "codemirror_mode": {
    "name": "ipython",
    "version": 3
   },
   "file_extension": ".py",
   "mimetype": "text/x-python",
   "name": "python",
   "nbconvert_exporter": "python",
   "pygments_lexer": "ipython3",
   "version": "3.6.10"
  }
 },
 "nbformat": 4,
 "nbformat_minor": 4
}
