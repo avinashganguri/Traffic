{
 "cells": [
  {
   "cell_type": "code",
   "execution_count": 1,
   "metadata": {},
   "outputs": [
    {
     "name": "stderr",
     "output_type": "stream",
     "text": [
      "Using TensorFlow backend.\n"
     ]
    }
   ],
   "source": [
    "# Libraries \n",
    "import numpy as np \n",
    "import pandas as pd \n",
    "import matplotlib.pyplot as plt\n",
    "import tensorflow as tf\n",
    "import cv2\n",
    "from PIL import Image\n",
    "import os\n",
    "from keras.models import Sequential\n",
    "from keras.layers import Conv2D, MaxPool2D, Dense, Flatten, Dropout\n",
    "from tensorflow.keras.callbacks import EarlyStopping"
   ]
  },
  {
   "cell_type": "code",
   "execution_count": 2,
   "metadata": {},
   "outputs": [
    {
     "name": "stdout",
     "output_type": "stream",
     "text": [
      "/Users/avi/Documents/UMKC/PythonDL/project/data/Train/0/\n",
      "/Users/avi/Documents/UMKC/PythonDL/project/data/Train/1/\n",
      "/Users/avi/Documents/UMKC/PythonDL/project/data/Train/2/\n",
      "/Users/avi/Documents/UMKC/PythonDL/project/data/Train/3/\n",
      "/Users/avi/Documents/UMKC/PythonDL/project/data/Train/4/\n",
      "/Users/avi/Documents/UMKC/PythonDL/project/data/Train/5/\n",
      "/Users/avi/Documents/UMKC/PythonDL/project/data/Train/6/\n",
      "/Users/avi/Documents/UMKC/PythonDL/project/data/Train/7/\n",
      "/Users/avi/Documents/UMKC/PythonDL/project/data/Train/8/\n",
      "/Users/avi/Documents/UMKC/PythonDL/project/data/Train/9/\n",
      "/Users/avi/Documents/UMKC/PythonDL/project/data/Train/10/\n",
      "/Users/avi/Documents/UMKC/PythonDL/project/data/Train/11/\n",
      "/Users/avi/Documents/UMKC/PythonDL/project/data/Train/12/\n",
      "/Users/avi/Documents/UMKC/PythonDL/project/data/Train/13/\n",
      "/Users/avi/Documents/UMKC/PythonDL/project/data/Train/14/\n",
      "/Users/avi/Documents/UMKC/PythonDL/project/data/Train/15/\n",
      "/Users/avi/Documents/UMKC/PythonDL/project/data/Train/16/\n",
      "/Users/avi/Documents/UMKC/PythonDL/project/data/Train/17/\n",
      "/Users/avi/Documents/UMKC/PythonDL/project/data/Train/18/\n",
      "/Users/avi/Documents/UMKC/PythonDL/project/data/Train/19/\n",
      "/Users/avi/Documents/UMKC/PythonDL/project/data/Train/20/\n",
      "/Users/avi/Documents/UMKC/PythonDL/project/data/Train/21/\n",
      "/Users/avi/Documents/UMKC/PythonDL/project/data/Train/22/\n",
      "/Users/avi/Documents/UMKC/PythonDL/project/data/Train/23/\n",
      "/Users/avi/Documents/UMKC/PythonDL/project/data/Train/24/\n",
      "/Users/avi/Documents/UMKC/PythonDL/project/data/Train/25/\n",
      "/Users/avi/Documents/UMKC/PythonDL/project/data/Train/26/\n",
      "/Users/avi/Documents/UMKC/PythonDL/project/data/Train/27/\n",
      "/Users/avi/Documents/UMKC/PythonDL/project/data/Train/28/\n",
      "/Users/avi/Documents/UMKC/PythonDL/project/data/Train/29/\n",
      "/Users/avi/Documents/UMKC/PythonDL/project/data/Train/30/\n",
      "/Users/avi/Documents/UMKC/PythonDL/project/data/Train/31/\n",
      "/Users/avi/Documents/UMKC/PythonDL/project/data/Train/32/\n",
      "/Users/avi/Documents/UMKC/PythonDL/project/data/Train/33/\n",
      "/Users/avi/Documents/UMKC/PythonDL/project/data/Train/34/\n",
      "/Users/avi/Documents/UMKC/PythonDL/project/data/Train/35/\n",
      "/Users/avi/Documents/UMKC/PythonDL/project/data/Train/36/\n",
      "/Users/avi/Documents/UMKC/PythonDL/project/data/Train/37/\n",
      "/Users/avi/Documents/UMKC/PythonDL/project/data/Train/38/\n",
      "/Users/avi/Documents/UMKC/PythonDL/project/data/Train/39/\n",
      "/Users/avi/Documents/UMKC/PythonDL/project/data/Train/40/\n",
      "/Users/avi/Documents/UMKC/PythonDL/project/data/Train/41/\n",
      "/Users/avi/Documents/UMKC/PythonDL/project/data/Train/42/\n"
     ]
    }
   ],
   "source": [
    "# Reading the input images and putting them into a numpy array\n",
    "data=[]\n",
    "labels=[]\n",
    "\n",
    "height = 30\n",
    "width = 30\n",
    "channels = 3\n",
    "classes = 43\n",
    "n_inputs = height * width*channels\n",
    "\n",
    "for i in range(classes) :\n",
    "    path = \"/Users/avi/Documents/UMKC/PythonDL/project/data/Train/{0}/\".format(i)\n",
    "    print(path)\n",
    "    Class=os.listdir(path)\n",
    "    for a in Class:\n",
    "        try:\n",
    "            image=cv2.imread(path+a)\n",
    "            image_from_array = Image.fromarray(image, 'RGB')\n",
    "            size_image = image_from_array.resize((height, width))\n",
    "            data.append(np.array(size_image))\n",
    "            labels.append(i)\n",
    "        except AttributeError:\n",
    "            print(\" \")\n",
    "            \n",
    "data=np.array(data)\n",
    "labels=np.array(labels)\n",
    "\n",
    "#Randomize the order of the input images\n",
    "s=np.arange(data.shape[0])\n",
    "np.random.seed(43)\n",
    "np.random.shuffle(s)\n",
    "data=data[s]\n",
    "labels=labels[s]"
   ]
  },
  {
   "cell_type": "code",
   "execution_count": 3,
   "metadata": {},
   "outputs": [],
   "source": [
    "#Spliting the images into train and validation sets\n",
    "(X_train,X_val)=data[(int)(0.2*len(labels)):],data[:(int)(0.2*len(labels))]\n",
    "X_train = X_train.astype('float32')/255 \n",
    "X_val = X_val.astype('float32')/255\n",
    "(y_train,y_val)=labels[(int)(0.2*len(labels)):],labels[:(int)(0.2*len(labels))]\n",
    "\n",
    "#Using one hote encoding for the train and validation labels\n",
    "from keras.utils import to_categorical\n",
    "y_train = to_categorical(y_train, 43)\n",
    "y_val = to_categorical(y_val, 43)"
   ]
  },
  {
   "cell_type": "code",
   "execution_count": 4,
   "metadata": {},
   "outputs": [
    {
     "name": "stdout",
     "output_type": "stream",
     "text": [
      "WARNING:tensorflow:From //anaconda/envs/pythonproject/lib/python3.6/site-packages/tensorflow_core/python/ops/resource_variable_ops.py:1630: calling BaseResourceVariable.__init__ (from tensorflow.python.ops.resource_variable_ops) with constraint is deprecated and will be removed in a future version.\n",
      "Instructions for updating:\n",
      "If using Keras pass *_constraint arguments to layers.\n",
      "WARNING:tensorflow:From //anaconda/envs/pythonproject/lib/python3.6/site-packages/keras/backend/tensorflow_backend.py:4070: The name tf.nn.max_pool is deprecated. Please use tf.nn.max_pool2d instead.\n",
      "\n"
     ]
    }
   ],
   "source": [
    "#Definition of the DNN model\n",
    "\n",
    "model = Sequential()\n",
    "model.add(Conv2D(filters=32, kernel_size=(5,5), activation='relu', input_shape=X_train.shape[1:]))\n",
    "model.add(Conv2D(filters=64, kernel_size=(3, 3), activation='relu'))\n",
    "model.add(MaxPool2D(pool_size=(2, 2)))\n",
    "model.add(Dropout(rate=0.25))\n",
    "model.add(Conv2D(filters=64, kernel_size=(3, 3), activation='relu'))\n",
    "model.add(MaxPool2D(pool_size=(2, 2)))\n",
    "model.add(Dropout(rate=0.25))\n",
    "model.add(Flatten())\n",
    "model.add(Dense(256, activation='relu'))\n",
    "model.add(Dropout(rate=0.5))\n",
    "model.add(Dense(43, activation='softmax'))\n",
    "\n",
    "#Compilation of the model\n",
    "model.compile(\n",
    "    loss='categorical_crossentropy', \n",
    "    optimizer='adam', \n",
    "    metrics=['accuracy']\n",
    ")"
   ]
  },
  {
   "cell_type": "code",
   "execution_count": 5,
   "metadata": {},
   "outputs": [
    {
     "name": "stdout",
     "output_type": "stream",
     "text": [
      "WARNING:tensorflow:From //anaconda/envs/pythonproject/lib/python3.6/site-packages/keras/backend/tensorflow_backend.py:422: The name tf.global_variables is deprecated. Please use tf.compat.v1.global_variables instead.\n",
      "\n",
      "Train on 31368 samples, validate on 7841 samples\n",
      "Epoch 1/20\n",
      "31368/31368 [==============================] - 113s 4ms/step - loss: 1.2378 - accuracy: 0.6529 - val_loss: 0.1474 - val_accuracy: 0.9631\n",
      "Epoch 2/20\n",
      "31368/31368 [==============================] - 128s 4ms/step - loss: 0.2403 - accuracy: 0.9276 - val_loss: 0.0784 - val_accuracy: 0.9786\n",
      "Epoch 3/20\n",
      "31368/31368 [==============================] - 119s 4ms/step - loss: 0.1475 - accuracy: 0.9543 - val_loss: 0.0521 - val_accuracy: 0.9897\n",
      "Epoch 4/20\n",
      "31368/31368 [==============================] - 115s 4ms/step - loss: 0.1046 - accuracy: 0.9677 - val_loss: 0.0382 - val_accuracy: 0.9906\n",
      "Epoch 5/20\n",
      "31368/31368 [==============================] - 103s 3ms/step - loss: 0.0894 - accuracy: 0.9729 - val_loss: 0.0276 - val_accuracy: 0.9941\n",
      "Epoch 6/20\n",
      "31368/31368 [==============================] - 102s 3ms/step - loss: 0.0780 - accuracy: 0.9757 - val_loss: 0.0306 - val_accuracy: 0.9936\n",
      "Epoch 7/20\n",
      "31368/31368 [==============================] - 152s 5ms/step - loss: 0.0663 - accuracy: 0.9791 - val_loss: 0.0260 - val_accuracy: 0.9939\n",
      "Epoch 8/20\n",
      "31368/31368 [==============================] - 109s 3ms/step - loss: 0.0596 - accuracy: 0.9821 - val_loss: 0.0256 - val_accuracy: 0.9950\n",
      "Epoch 9/20\n",
      "31368/31368 [==============================] - 105s 3ms/step - loss: 0.0542 - accuracy: 0.9821 - val_loss: 0.0196 - val_accuracy: 0.9957\n",
      "Epoch 10/20\n",
      "31368/31368 [==============================] - 477s 15ms/step - loss: 0.0531 - accuracy: 0.9836 - val_loss: 0.0187 - val_accuracy: 0.9964\n",
      "Epoch 11/20\n",
      "31368/31368 [==============================] - 103s 3ms/step - loss: 0.0522 - accuracy: 0.9841 - val_loss: 0.0175 - val_accuracy: 0.9968\n",
      "Epoch 12/20\n",
      "31368/31368 [==============================] - 102s 3ms/step - loss: 0.0486 - accuracy: 0.9848 - val_loss: 0.0179 - val_accuracy: 0.9960\n",
      "Epoch 13/20\n",
      "31368/31368 [==============================] - 207s 7ms/step - loss: 0.0478 - accuracy: 0.9864 - val_loss: 0.0222 - val_accuracy: 0.9955\n",
      "Epoch 14/20\n",
      "31368/31368 [==============================] - 104s 3ms/step - loss: 0.0391 - accuracy: 0.9881 - val_loss: 0.0277 - val_accuracy: 0.9935\n",
      "Epoch 15/20\n",
      "31368/31368 [==============================] - 101s 3ms/step - loss: 0.0404 - accuracy: 0.9879 - val_loss: 0.0213 - val_accuracy: 0.9968\n",
      "Epoch 16/20\n",
      "31368/31368 [==============================] - 111s 4ms/step - loss: 0.0485 - accuracy: 0.9856 - val_loss: 0.0180 - val_accuracy: 0.9972\n",
      "Restoring model weights from the end of the best epoch.\n",
      "Epoch 00016: early stopping\n"
     ]
    }
   ],
   "source": [
    "#using 20 epochs for the training and earlystopping\n",
    "epochs = 20\n",
    "monitor=EarlyStopping(monitor='val_loss', min_delta=1e-3, patience=5, verbose=1, mode='auto',restore_best_weights=True)\n",
    "history = model.fit(X_train, y_train, callbacks=[monitor], batch_size=32, epochs=epochs,\n",
    "validation_data=(X_val, y_val))\n"
   ]
  },
  {
   "cell_type": "code",
   "execution_count": 6,
   "metadata": {},
   "outputs": [
    {
     "data": {
      "image/png": "[encoded data removed]",
      "text/plain": [
       "<Figure size 432x288 with 1 Axes>"
      ]
     },
     "metadata": {
      "needs_background": "light"
     },
     "output_type": "display_data"
    },
    {
     "data": {
      "image/png": "[encoded data removed]",
      "text/plain": [
       "<Figure size 432x288 with 1 Axes>"
      ]
     },
     "metadata": {
      "needs_background": "light"
     },
     "output_type": "display_data"
    }
   ],
   "source": [
    "#Display of the accuracy and the loss values\n",
    "import matplotlib.pyplot as plt\n",
    "\n",
    "plt.figure(0)\n",
    "plt.plot(history.history['accuracy'], label='training accuracy')\n",
    "plt.plot(history.history['val_accuracy'], label='val accuracy')\n",
    "plt.title('Accuracy')\n",
    "plt.xlabel('epochs')\n",
    "plt.ylabel('accuracy')\n",
    "plt.legend()\n",
    "plt.show()\n",
    "\n",
    "plt.figure(1)\n",
    "plt.plot(history.history['loss'], label='training loss')\n",
    "plt.plot(history.history['val_loss'], label='val loss')\n",
    "plt.title('Loss')\n",
    "plt.xlabel('epochs')\n",
    "plt.ylabel('loss')\n",
    "plt.legend()\n",
    "plt.show()"
   ]
  },
  {
   "cell_type": "code",
   "execution_count": 7,
   "metadata": {},
   "outputs": [],
   "source": [
    "#Predicting with the test data\n",
    "y_test=pd.read_csv(\"/Users/avi/Documents/UMKC/PythonDL/project/data/Test.csv\")\n",
    "labels=y_test['Path'].to_numpy()\n",
    "y_test=y_test['ClassId'].values\n",
    "\n",
    "data=[]\n",
    "\n",
    "for f in labels:\n",
    "    image=cv2.imread('/Users/avi/Documents/UMKC/PythonDL/project/data/Test/'+f.replace('Test/', ''))\n",
    "    image_from_array = Image.fromarray(image, 'RGB')\n",
    "    size_image = image_from_array.resize((height, width))\n",
    "    data.append(np.array(size_image))\n",
    "\n",
    "X_test=np.array(data)\n",
    "X_test = X_test.astype('float32')/255 \n",
    "pred = model.predict_classes(X_test)"
   ]
  },
  {
   "cell_type": "code",
   "execution_count": 8,
   "metadata": {},
   "outputs": [
    {
     "data": {
      "text/plain": [
       "0.9742676167854315"
      ]
     },
     "execution_count": 8,
     "metadata": {},
     "output_type": "execute_result"
    }
   ],
   "source": [
    "#Accuracy with the test data\n",
    "from sklearn.metrics import accuracy_score\n",
    "accuracy_score(y_test, pred)"
   ]
  },
  {
   "cell_type": "code",
   "execution_count": 11,
   "metadata": {},
   "outputs": [],
   "source": [
    "model.save('/Users/avi/Documents/UMKC/PythonDL/project/model.h5')"
   ]
  },
  {
   "cell_type": "code",
   "execution_count": null,
   "metadata": {},
   "outputs": [],
   "source": []
  }
 ],
 "metadata": {
  "anaconda-cloud": {},
  "kernelspec": {
   "display_name": "pythonproject",
   "language": "python",
   "name": "pythonproject"
  },
  "language_info": {
   "codemirror_mode": {
    "name": "ipython",
    "version": 3
   },
   "file_extension": ".py",
   "mimetype": "text/x-python",
   "name": "python",
   "nbconvert_exporter": "python",
   "pygments_lexer": "ipython3",
   "version": "3.6.10"
  }
 },
 "nbformat": 4,
 "nbformat_minor": 1
}
